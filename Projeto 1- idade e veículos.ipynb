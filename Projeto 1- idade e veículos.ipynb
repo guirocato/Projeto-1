{
 "cells": [
  {
   "cell_type": "markdown",
   "metadata": {},
   "source": [
    "## Número de carros por habitantes, idade da população e Índice de Desenvolvimento Humano.\n"
   ]
  },
  {
   "cell_type": "markdown",
   "metadata": {},
   "source": [
    "##### O IDH é calculado a partir de fatores como educação, longevidade e renda.\n",
    "##### Questão a ser investigada: o número de carros e a idade média da população influênciam no IDH?"
   ]
  },
  {
   "cell_type": "markdown",
   "metadata": {},
   "source": [
    "Objetivo do estudo: estabelecer relações entre os dados ou explicar por que não há relação entre eles."
   ]
  },
  {
   "cell_type": "markdown",
   "metadata": {},
   "source": [
    "### Organização e unificação do Data Frame"
   ]
  },
  {
   "cell_type": "code",
   "execution_count": 33,
   "metadata": {},
   "outputs": [],
   "source": [
    "#imports gerais\n",
    "import pandas as pd\n",
    "import numpy as np\n",
    "import math as math\n",
    "import matplotlib.pyplot as plt\n",
    "import seaborn as sns"
   ]
  },
  {
   "cell_type": "code",
   "execution_count": 34,
   "metadata": {},
   "outputs": [],
   "source": [
    "#Leitura dos arquivos em Excel\n",
    "carros=pd.read_excel('cars_trucks_and_buses_per_1000_persons.xlsx')\n",
    "hdi = pd.read_excel('hdi_human_development_index.xlsx')\n",
    "idade = pd.read_excel('median_age_years.xlsx')"
   ]
  },
  {
   "cell_type": "code",
   "execution_count": 35,
   "metadata": {},
   "outputs": [],
   "source": [
    "#\n",
    "idade_2007=idade.loc[:,['geo',2007]]\n",
    "hdi_2007=hdi.loc[:,['geo',2007]]\n",
    "carros_2007=carros.loc[:,['geo',2007]]"
   ]
  },
  {
   "cell_type": "code",
   "execution_count": 36,
   "metadata": {},
   "outputs": [],
   "source": [
    "idade_idx=idade_2007.set_index('geo')\n",
    "hdi_idx=hdi_2007.set_index('geo')\n",
    "carros_idx=carros_2007.set_index('geo')"
   ]
  },
  {
   "cell_type": "code",
   "execution_count": 37,
   "metadata": {},
   "outputs": [],
   "source": [
    "df=idade_idx.join(hdi_idx,how='inner',lsuffix='_age',rsuffix='_hdi')"
   ]
  },
  {
   "cell_type": "code",
   "execution_count": 38,
   "metadata": {},
   "outputs": [],
   "source": [
    "data=df.join(carros_idx,how='inner')"
   ]
  },
  {
   "cell_type": "code",
   "execution_count": 39,
   "metadata": {},
   "outputs": [],
   "source": [
    "#writer = pd.ExcelWriter('Projeto1.xlsx')\n",
    "#data.to_excel(writer,'Sheet1')\n",
    "#writer.save()\n",
    "#utilizado para renomear a coluna mais a direita"
   ]
  },
  {
   "cell_type": "code",
   "execution_count": 40,
   "metadata": {},
   "outputs": [
    {
     "data": {
      "text/html": [
       "<div>\n",
       "<style scoped>\n",
       "    .dataframe tbody tr th:only-of-type {\n",
       "        vertical-align: middle;\n",
       "    }\n",
       "\n",
       "    .dataframe tbody tr th {\n",
       "        vertical-align: top;\n",
       "    }\n",
       "\n",
       "    .dataframe thead th {\n",
       "        text-align: right;\n",
       "    }\n",
       "</style>\n",
       "<table border=\"1\" class=\"dataframe\">\n",
       "  <thead>\n",
       "    <tr style=\"text-align: right;\">\n",
       "      <th></th>\n",
       "      <th>País</th>\n",
       "      <th>Idade</th>\n",
       "      <th>IDH</th>\n",
       "      <th>Veículos</th>\n",
       "    </tr>\n",
       "  </thead>\n",
       "  <tbody>\n",
       "  </tbody>\n",
       "</table>\n",
       "</div>"
      ],
      "text/plain": [
       "Empty DataFrame\n",
       "Columns: [País, Idade, IDH, Veículos]\n",
       "Index: []"
      ]
     },
     "execution_count": 40,
     "metadata": {},
     "output_type": "execute_result"
    }
   ],
   "source": [
    "fdf=pd.read_excel('Projeto1.xlsx')\n",
    "fdf.rename(columns={'geo':'País','2007_age':'Idade','2007_vehicles':'Veículos','2007_hdi':'IDH'},inplace=True)\n",
    "fdf.head(0)"
   ]
  },
  {
   "cell_type": "markdown",
   "metadata": {},
   "source": [
    "### 1.Análise: Média de idade"
   ]
  },
  {
   "cell_type": "code",
   "execution_count": 130,
   "metadata": {},
   "outputs": [
    {
     "data": {
      "text/plain": [
       "0.8669447386037897"
      ]
     },
     "execution_count": 130,
     "metadata": {},
     "output_type": "execute_result"
    }
   ],
   "source": [
    "fdf.Idade.corr(fdf.IDH)"
   ]
  },
  {
   "cell_type": "markdown",
   "metadata": {},
   "source": [
    "#### Podemos observar que existe uma correlação de aproximadamente 0.86, o que indica uma correlação alta. Isso é um bom indicador da influência que a média de idade tem sobre o IDH."
   ]
  },
  {
   "cell_type": "code",
   "execution_count": 131,
   "metadata": {},
   "outputs": [
    {
     "data": {
      "text/plain": [
       "count    156.000000\n",
       "mean      27.122436\n",
       "std        8.323209\n",
       "min       15.100000\n",
       "25%       19.575000\n",
       "50%       25.400000\n",
       "75%       35.425000\n",
       "max       43.000000\n",
       "Name: Idade, dtype: float64"
      ]
     },
     "execution_count": 131,
     "metadata": {},
     "output_type": "execute_result"
    }
   ],
   "source": [
    "fdf.Idade.describe()"
   ]
  },
  {
   "cell_type": "markdown",
   "metadata": {},
   "source": [
    "#### Histograma: Média das idades"
   ]
  },
  {
   "cell_type": "code",
   "execution_count": 132,
   "metadata": {},
   "outputs": [
    {
     "data": {
      "image/png": "[encoded data removed]",
      "text/plain": [
       "<matplotlib.figure.Figure at 0x27e5920a438>"
      ]
     },
     "metadata": {},
     "output_type": "display_data"
    }
   ],
   "source": [
    "histogramaidade=fdf.Idade.plot.hist(color='red')\n",
    "def verticalLine(histograma, x, y, color, nome):\n",
    "    histogramaidade.axvline(x, color=color, linestyle=\"dashed\", linewidth=2)\n",
    "    histogramaidade.text(1.01*x, y, nome, color=color)     \n",
    "verticalLine(histogramaidade, fdf.Idade.mean(), 25, \"g\", \"Média\")"
   ]
  },
  {
   "cell_type": "markdown",
   "metadata": {},
   "source": [
    "#### IDH vs Média de Idade: gráfico com linha de tendência"
   ]
  },
  {
   "cell_type": "code",
   "execution_count": 134,
   "metadata": {},
   "outputs": [
    {
     "data": {
      "text/plain": [
       "<matplotlib.axes._subplots.AxesSubplot at 0x27e592771d0>"
      ]
     },
     "execution_count": 134,
     "metadata": {},
     "output_type": "execute_result"
    },
    {
     "data": {
      "image/png": "[encoded data removed]",
      "text/plain": [
       "<matplotlib.figure.Figure at 0x27e58b47940>"
      ]
     },
     "metadata": {},
     "output_type": "display_data"
    }
   ],
   "source": [
    "sns.regplot('IDH','Idade',fdf,color='red')"
   ]
  },
  {
   "cell_type": "markdown",
   "metadata": {},
   "source": [
    "### 2.Análise: Veículos (carros, caminhões e ônibus a cada 1000 pessoas)"
   ]
  },
  {
   "cell_type": "code",
   "execution_count": 135,
   "metadata": {},
   "outputs": [
    {
     "data": {
      "text/plain": [
       "0.8062395823637301"
      ]
     },
     "execution_count": 135,
     "metadata": {},
     "output_type": "execute_result"
    }
   ],
   "source": [
    "fdf.Veículos.corr(fdf.IDH)"
   ]
  },
  {
   "cell_type": "markdown",
   "metadata": {},
   "source": [
    "#### Podemos observar que existe uma correlação de aproximadamente 0.80, o que indica uma correlação alta. Isso é um bom indicador da influência que a quantidade de veículos tem sobre o IDH."
   ]
  },
  {
   "cell_type": "code",
   "execution_count": 136,
   "metadata": {},
   "outputs": [
    {
     "data": {
      "text/plain": [
       "count    144.000000\n",
       "mean     210.673299\n",
       "std      222.929216\n",
       "min        0.295000\n",
       "25%       32.150000\n",
       "50%      115.000000\n",
       "75%      357.500000\n",
       "max      820.000000\n",
       "Name: Veículos, dtype: float64"
      ]
     },
     "execution_count": 136,
     "metadata": {},
     "output_type": "execute_result"
    }
   ],
   "source": [
    "fdf.Veículos.describe()"
   ]
  },
  {
   "cell_type": "markdown",
   "metadata": {},
   "source": [
    "#### Histograma: Número de veículos"
   ]
  },
  {
   "cell_type": "code",
   "execution_count": 139,
   "metadata": {},
   "outputs": [
    {
     "data": {
      "image/png": "[encoded data removed]",
      "text/plain": [
       "<matplotlib.figure.Figure at 0x27e59413748>"
      ]
     },
     "metadata": {},
     "output_type": "display_data"
    }
   ],
   "source": [
    "histogramaveic=fdf.Veículos.plot.hist(color='yellow')\n",
    "def verticalLine(histograma, x, y, color, nome):\n",
    "    histogramaveic.axvline(x, color=color, linestyle=\"dashed\", linewidth=2)\n",
    "    histogramaveic.text(1.01*x, y, nome, color=color)     \n",
    "verticalLine(histogramaveic, fdf.Veículos.mean(), 25, \"r\", \"Média\")"
   ]
  },
  {
   "cell_type": "markdown",
   "metadata": {},
   "source": [
    "#### IDH vs Número veículos: gráfico com linha de tendência"
   ]
  },
  {
   "cell_type": "code",
   "execution_count": 148,
   "metadata": {},
   "outputs": [
    {
     "data": {
      "text/plain": [
       "<matplotlib.axes._subplots.AxesSubplot at 0x27e5b0dac18>"
      ]
     },
     "execution_count": 148,
     "metadata": {},
     "output_type": "execute_result"
    },
    {
     "data": {
      "image/png": "[encoded data removed]",
      "text/plain": [
       "<matplotlib.figure.Figure at 0x27e54c6f860>"
      ]
     },
     "metadata": {},
     "output_type": "display_data"
    }
   ],
   "source": [
    "sns.regplot('IDH','Veículos',fdf,color='blue')"
   ]
  },
  {
   "cell_type": "markdown",
   "metadata": {},
   "source": [
    "### 3.Análise: Veículos (carros, caminhões e ônibus a cada 1000 pessoas) e Média de idade"
   ]
  },
  {
   "cell_type": "code",
   "execution_count": 142,
   "metadata": {},
   "outputs": [
    {
     "data": {
      "text/plain": [
       "0.7817131508857608"
      ]
     },
     "execution_count": 142,
     "metadata": {},
     "output_type": "execute_result"
    }
   ],
   "source": [
    "fdf.Veículos.corr(fdf.Idade)"
   ]
  },
  {
   "cell_type": "markdown",
   "metadata": {},
   "source": [
    "#### Podemos observar que existe uma correlação de aproximadamente 0.78, o que indica uma correlação média/alta. Isso é um indicador de uma possível influência que a média de idade tem sobre o IDH."
   ]
  },
  {
   "cell_type": "markdown",
   "metadata": {},
   "source": [
    "#### Veículos x Média de Idade"
   ]
  },
  {
   "cell_type": "code",
   "execution_count": 150,
   "metadata": {},
   "outputs": [
    {
     "data": {
      "text/plain": [
       "<matplotlib.axes._subplots.AxesSubplot at 0x27e5b06f4e0>"
      ]
     },
     "execution_count": 150,
     "metadata": {},
     "output_type": "execute_result"
    },
    {
     "data": {
      "image/png": "[encoded data removed]",
      "text/plain": [
       "<matplotlib.figure.Figure at 0x27e5b0f2b70>"
      ]
     },
     "metadata": {},
     "output_type": "display_data"
    }
   ],
   "source": [
    "sns.regplot('Idade','Veículos',fdf,color='green')"
   ]
  },
  {
   "cell_type": "code",
   "execution_count": 154,
   "metadata": {},
   "outputs": [
    {
     "data": {
      "text/html": [
       "<div>\n",
       "<style scoped>\n",
       "    .dataframe tbody tr th:only-of-type {\n",
       "        vertical-align: middle;\n",
       "    }\n",
       "\n",
       "    .dataframe tbody tr th {\n",
       "        vertical-align: top;\n",
       "    }\n",
       "\n",
       "    .dataframe thead th {\n",
       "        text-align: right;\n",
       "    }\n",
       "</style>\n",
       "<table border=\"1\" class=\"dataframe\">\n",
       "  <thead>\n",
       "    <tr style=\"text-align: right;\">\n",
       "      <th></th>\n",
       "      <th>País</th>\n",
       "      <th>Idade</th>\n",
       "      <th>IDH</th>\n",
       "      <th>Veículos</th>\n",
       "    </tr>\n",
       "  </thead>\n",
       "  <tbody>\n",
       "    <tr>\n",
       "      <th>149</th>\n",
       "      <td>United States</td>\n",
       "      <td>36.1</td>\n",
       "      <td>0.905</td>\n",
       "      <td>820.0</td>\n",
       "    </tr>\n",
       "  </tbody>\n",
       "</table>\n",
       "</div>"
      ],
      "text/plain": [
       "              País  Idade    IDH  Veículos\n",
       "149  United States   36.1  0.905     820.0"
      ]
     },
     "execution_count": 154,
     "metadata": {},
     "output_type": "execute_result"
    }
   ],
   "source": [
    "fdf[(fdf['Veículos']>800)]"
   ]
  },
  {
   "cell_type": "markdown",
   "metadata": {},
   "source": [
    "### Conclusão"
   ]
  },
  {
   "cell_type": "markdown",
   "metadata": {},
   "source": [
    "#####  A relação entre IDH e média de idade, não apresenta outliers significativos. Países com maiores idades médias, até os 43 anos, apresentam IDHs maiores. Uma das causas dessa relação é a maior inserção de pessoas no mercado de trabalho, visto que jovens geralmente apenas estudam e idosos estão menos dispostos a trabalhar. Populações com idades próximas aos 40 anos são ativas na geração de capital para o país, e economias fortes possuem IDHs maiores. "
   ]
  },
  {
   "cell_type": "markdown",
   "metadata": {},
   "source": [
    "##### A relação entre IDH e número de veículos a cada mil habitantes, apesar de possuir uma correlação alta, apresenta outliers significativos como a Singapura. Este país possuí um IDH elevado de 0.88, apesar do número pequeno de veículos se comparado com outros países que possuem IDHs próximos a este. Isso ocorre graças as políticas e taxas adotadas no país para a compra de carros. Além de preços elevados para os veículos, (um carro da Toyota, modelo Corolla novo custa 103 mil dólares) existe a necessidade de obter uma licença para utilizar carros que custa 37 mil dólares. Retomando a questão, concluí-se que o número de veículos está relacionado ao IDH tendo em mente o preço de compra e de utilização deste tipo de bem, maiores quantidades de veículos remetem a um maior poder de compra por pessoa, o que é diretamente ligado ao IDH."
   ]
  }
 ],
 "metadata": {
  "kernelspec": {
   "display_name": "Python 3",
   "language": "python",
   "name": "python3"
  },
  "language_info": {
   "codemirror_mode": {
    "name": "ipython",
    "version": 3
   },
   "file_extension": ".py",
   "mimetype": "text/x-python",
   "name": "python",
   "nbconvert_exporter": "python",
   "pygments_lexer": "ipython3",
   "version": "3.6.4"
  }
 },
 "nbformat": 4,
 "nbformat_minor": 2
}
